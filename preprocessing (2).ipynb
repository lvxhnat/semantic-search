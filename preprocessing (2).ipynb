{
 "cells": [
  {
   "cell_type": "code",
   "execution_count": 1,
   "id": "995f657d-8304-4053-889b-9dc333a21cbc",
   "metadata": {},
   "outputs": [
    {
     "name": "stderr",
     "output_type": "stream",
     "text": [
      "/home/yikuang/miniconda3/envs/rapids-24.06/lib/python3.10/site-packages/tqdm/auto.py:21: TqdmWarning: IProgress not found. Please update jupyter and ipywidgets. See https://ipywidgets.readthedocs.io/en/stable/user_install.html\n",
      "  from .autonotebook import tqdm as notebook_tqdm\n"
     ]
    }
   ],
   "source": [
    "import umap\n",
    "import chromadb\n",
    "import numpy as np"
   ]
  },
  {
   "cell_type": "code",
   "execution_count": 2,
   "id": "24eef024-2f9f-4f9a-88be-e1beca621f92",
   "metadata": {},
   "outputs": [],
   "source": [
    "chroma_client = chromadb.PersistentClient(path = \"./data/chromadb/\")\n",
    "chroma_collection = chroma_client.get_collection(\"msr2013\")"
   ]
  },
  {
   "cell_type": "code",
   "execution_count": 3,
   "id": "f4e66ad3-1bed-49fb-8c89-a3813987f778",
   "metadata": {},
   "outputs": [],
   "source": [
    "embeddings = chroma_collection.get(include=['embeddings', 'documents', 'metadatas'])"
   ]
  },
  {
   "cell_type": "code",
   "execution_count": 12,
   "id": "80d0f35f-0397-46f5-a390-b1222f422f55",
   "metadata": {},
   "outputs": [
    {
     "data": {
      "text/plain": [
       "70000"
      ]
     },
     "execution_count": 12,
     "metadata": {},
     "output_type": "execute_result"
    }
   ],
   "source": [
    "embeddings['embeddings']"
   ]
  },
  {
   "cell_type": "code",
   "execution_count": null,
   "id": "f208ef98-1626-4f1a-819b-d0756f442776",
   "metadata": {},
   "outputs": [],
   "source": [
    "umap_embedding_arr: np.ndarray = umap.UMAP(\n",
    "    n_neighbors=25,\n",
    "    n_components=50,\n",
    "    verbose=True,\n",
    "    random_state=42,\n",
    ").fit_transform(embeddings)"
   ]
  },
  {
   "cell_type": "code",
   "execution_count": null,
   "id": "4c8cd4ec-89c9-4fbc-b625-f39bd92d91e0",
   "metadata": {},
   "outputs": [],
   "source": []
  }
 ],
 "metadata": {
  "kernelspec": {
   "display_name": "rapids",
   "language": "python",
   "name": "rapids-24.06"
  },
  "language_info": {
   "codemirror_mode": {
    "name": "ipython",
    "version": 3
   },
   "file_extension": ".py",
   "mimetype": "text/x-python",
   "name": "python",
   "nbconvert_exporter": "python",
   "pygments_lexer": "ipython3",
   "version": "3.10.14"
  }
 },
 "nbformat": 4,
 "nbformat_minor": 5
}
