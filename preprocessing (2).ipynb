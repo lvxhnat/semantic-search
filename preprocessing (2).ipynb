{
 "cells": [
  {
   "cell_type": "code",
   "execution_count": 1,
   "id": "995f657d-8304-4053-889b-9dc333a21cbc",
   "metadata": {},
   "outputs": [
    {
     "name": "stderr",
     "output_type": "stream",
     "text": [
      "/home/yikuang/miniconda3/envs/rapids-defectsearch/lib/python3.10/site-packages/tqdm/auto.py:21: TqdmWarning: IProgress not found. Please update jupyter and ipywidgets. See https://ipywidgets.readthedocs.io/en/stable/user_install.html\n",
      "  from .autonotebook import tqdm as notebook_tqdm\n"
     ]
    }
   ],
   "source": [
    "import cuml\n",
    "import chromadb\n",
    "import numpy as np\n",
    "from mlengine.core.model import umap, hdbscan"
   ]
  },
  {
   "cell_type": "code",
   "execution_count": 2,
   "id": "24eef024-2f9f-4f9a-88be-e1beca621f92",
   "metadata": {},
   "outputs": [],
   "source": [
    "chroma_client = chromadb.PersistentClient(path = \"./data/chromadb/\")\n",
    "chroma_collection = chroma_client.get_collection(\"msr2013\")"
   ]
  },
  {
   "cell_type": "code",
   "execution_count": 3,
   "id": "f4e66ad3-1bed-49fb-8c89-a3813987f778",
   "metadata": {},
   "outputs": [],
   "source": [
    "entries = chroma_collection.get(include=['embeddings', 'documents'])"
   ]
  },
  {
   "cell_type": "code",
   "execution_count": 4,
   "id": "70e1cfb0-c4f5-48d0-ae43-3f9692203943",
   "metadata": {},
   "outputs": [
    {
     "data": {
      "text/plain": [
       "((568495, 768), (568495,))"
      ]
     },
     "execution_count": 4,
     "metadata": {},
     "output_type": "execute_result"
    }
   ],
   "source": [
    "embeddings: np.ndarray = np.array(entries['embeddings'])\n",
    "documents: np.ndarray = np.array(entries['documents'])\n",
    "embeddings.shape, documents.shape"
   ]
  },
  {
   "cell_type": "markdown",
   "id": "3a8f6180-9856-4b23-a862-2b33e8fc4e9a",
   "metadata": {},
   "source": [
    "#### Reduced Embeddings"
   ]
  },
  {
   "cell_type": "code",
   "execution_count": 5,
   "id": "b89f60d7-64c2-4a10-b8b4-b68bf35d3f81",
   "metadata": {},
   "outputs": [
    {
     "name": "stdout",
     "output_type": "stream",
     "text": [
      "[D] [08:21:22.933963] /opt/conda/conda-bld/work/cpp/src/umap/runner.cuh:107 n_neighbors=25\n",
      "[D] [08:21:22.934364] /opt/conda/conda-bld/work/cpp/src/umap/runner.cuh:129 Calling knn graph run\n",
      "[D] [08:24:09.718490] /opt/conda/conda-bld/work/cpp/src/umap/runner.cuh:135 Done. Calling fuzzy simplicial set\n",
      "[D] [08:24:09.725827] /opt/conda/conda-bld/work/cpp/src/umap/fuzzy_simpl_set/naive.cuh:318 Smooth kNN Distances\n",
      "[D] [08:24:09.727009] /opt/conda/conda-bld/work/cpp/src/umap/fuzzy_simpl_set/naive.cuh:320 sigmas = [ 0.0858226, 0.0542774, 0.0516064, 0.0631428, 0.0445867, 0.0342917, 0.0435226, 0.0400901, 0.143942, 0.339174, 0.2011, 0.11356, 0.199286, 0.071136, 0.0215503, 0.157732, 0.0537701, 0.0710161, 0.0653348, 0.118583, 0.092495, 0.0316916, 0.0192748, 0.0349617, 0.0391008 ]\n",
      "\n",
      "[D] [08:24:09.727036] /opt/conda/conda-bld/work/cpp/src/umap/fuzzy_simpl_set/naive.cuh:322 rhos = [ 0.920521, 0.779573, 0.94673, 0.757413, 0.278114, 0.810372, 0.765953, 0.892365, 0.537927, 0.257183, 0.463543, 0.533714, 0.722134, 0.531701, 1.2048, 0.658886, 0.715768, 0.791876, 0.830292, 0.938192, 0.620155, 1.14578, 0.934515, 0.861405, 1.10002 ]\n",
      "\n",
      "[D] [08:24:09.727049] /opt/conda/conda-bld/work/cpp/src/umap/fuzzy_simpl_set/naive.cuh:346 Compute Membership Strength\n",
      "[D] [08:24:14.476493] /opt/conda/conda-bld/work/cpp/src/umap/fuzzy_simpl_set/naive.cuh:349 /opt/conda/conda-bld/work/cpp/src/umap/fuzzy_simpl_set/naive.cuh:349 \n",
      "[D] [08:24:14.586245] /opt/conda/conda-bld/work/cpp/src/umap/runner.cuh:142 Done. Calling remove zeros\n",
      "[D] [08:24:21.489883] /opt/conda/conda-bld/work/cpp/src/umap/simpl_set_embed/algo.cuh:347 /opt/conda/conda-bld/work/cpp/src/umap/simpl_set_embed/algo.cuh:347 \n"
     ]
    },
    {
     "name": "stderr",
     "output_type": "stream",
     "text": [
      "IOStream.flush timed out\n"
     ]
    },
    {
     "name": "stdout",
     "output_type": "stream",
     "text": [
      "[D] [08:24:36.012075] /opt/conda/conda-bld/work/cpp/src/umap/runner.cuh:107 n_neighbors=25\n",
      "[D] [08:24:36.012399] /opt/conda/conda-bld/work/cpp/src/umap/runner.cuh:129 Calling knn graph run\n",
      "[D] [08:27:30.991281] /opt/conda/conda-bld/work/cpp/src/umap/runner.cuh:135 Done. Calling fuzzy simplicial set\n",
      "[D] [08:27:30.998700] /opt/conda/conda-bld/work/cpp/src/umap/fuzzy_simpl_set/naive.cuh:318 Smooth kNN Distances\n",
      "[D] [08:27:30.999099] /opt/conda/conda-bld/work/cpp/src/umap/fuzzy_simpl_set/naive.cuh:320 sigmas = [ 0.0858226, 0.0542774, 0.0516064, 0.0631428, 0.0445867, 0.0342917, 0.0435226, 0.0400901, 0.143942, 0.339174, 0.2011, 0.11356, 0.199286, 0.071136, 0.0215503, 0.157732, 0.0537701, 0.0710161, 0.0653348, 0.118583, 0.092495, 0.0316916, 0.0192748, 0.0349617, 0.0391008 ]\n",
      "\n",
      "[D] [08:27:30.999122] /opt/conda/conda-bld/work/cpp/src/umap/fuzzy_simpl_set/naive.cuh:322 rhos = [ 0.920521, 0.779573, 0.94673, 0.757413, 0.278114, 0.810372, 0.765953, 0.892365, 0.537927, 0.257183, 0.463543, 0.533714, 0.722134, 0.531701, 1.2048, 0.658886, 0.715768, 0.791876, 0.830292, 0.938192, 0.620155, 1.14578, 0.934515, 0.861405, 1.10002 ]\n",
      "\n",
      "[D] [08:27:30.999134] /opt/conda/conda-bld/work/cpp/src/umap/fuzzy_simpl_set/naive.cuh:346 Compute Membership Strength\n",
      "[D] [08:27:35.743765] /opt/conda/conda-bld/work/cpp/src/umap/fuzzy_simpl_set/naive.cuh:349 /opt/conda/conda-bld/work/cpp/src/umap/fuzzy_simpl_set/naive.cuh:349 \n",
      "[D] [08:27:35.854088] /opt/conda/conda-bld/work/cpp/src/umap/runner.cuh:142 Done. Calling remove zeros\n",
      "[D] [08:27:41.741768] /opt/conda/conda-bld/work/cpp/src/umap/simpl_set_embed/algo.cuh:347 /opt/conda/conda-bld/work/cpp/src/umap/simpl_set_embed/algo.cuh:347 \n"
     ]
    }
   ],
   "source": [
    "reduced_embeddings: np.ndarray = umap(embeddings)\n",
    "viz_embeddings: np.ndarray = umap(embeddings, n_components = 2)"
   ]
  },
  {
   "cell_type": "code",
   "execution_count": 6,
   "id": "014ef0c2-6149-4944-8780-dcaca16c43e6",
   "metadata": {},
   "outputs": [
    {
     "data": {
      "text/plain": [
       "array([[ 1.9327888 , -2.2460518 ],\n",
       "       [-4.381938  , -4.0510783 ],\n",
       "       [ 0.95923615,  1.6207881 ],\n",
       "       ...,\n",
       "       [ 2.0995588 , -2.6652412 ],\n",
       "       [ 2.797977  ,  3.6747608 ],\n",
       "       [-0.8451376 , -2.6305447 ]], dtype=float32)"
      ]
     },
     "execution_count": 6,
     "metadata": {},
     "output_type": "execute_result"
    }
   ],
   "source": [
    "viz_embeddings"
   ]
  },
  {
   "cell_type": "code",
   "execution_count": 7,
   "id": "d70ac1a6-f885-4a94-8872-12d3a3ffea4d",
   "metadata": {},
   "outputs": [
    {
     "data": {
      "image/png": "[encoded data removed]",
      "text/plain": [
       "<Figure size 500x500 with 1 Axes>"
      ]
     },
     "metadata": {},
     "output_type": "display_data"
    }
   ],
   "source": [
    "import matplotlib.pyplot as plt\n",
    "plt.figure(figsize = (5, 5))\n",
    "plt.xticks([]), plt.yticks([])\n",
    "scat_ = plt.scatter(x = viz_embeddings[:,0], y = viz_embeddings[:,1])"
   ]
  },
  {
   "cell_type": "markdown",
   "id": "4315c74d-5200-496d-9304-3610d11ba714",
   "metadata": {},
   "source": [
    "#### Cluster the data points "
   ]
  },
  {
   "cell_type": "code",
   "execution_count": 8,
   "id": "94623c55-2965-4170-a602-4296769e8049",
   "metadata": {},
   "outputs": [],
   "source": [
    "fitted_model_ = hdbscan(reduced_embeddings)"
   ]
  },
  {
   "cell_type": "code",
   "execution_count": 9,
   "id": "b46b62c7-c72d-43e1-9aee-2be910686ae4",
   "metadata": {},
   "outputs": [],
   "source": [
    "labels_ = fitted_model_.labels_ "
   ]
  },
  {
   "cell_type": "code",
   "execution_count": 10,
   "id": "16826e42-ab35-4b0e-941e-de26f6614178",
   "metadata": {},
   "outputs": [
    {
     "data": {
      "image/png": "[encoded data removed]",
      "text/plain": [
       "<Figure size 500x500 with 1 Axes>"
      ]
     },
     "metadata": {},
     "output_type": "display_data"
    }
   ],
   "source": [
    "import matplotlib.pyplot as plt\n",
    "plt.figure(figsize = (5, 5))\n",
    "scat_ = plt.scatter(x = viz_embeddings[:,0], y = viz_embeddings[:,1], c = fitted_model_.labels_)"
   ]
  },
  {
   "cell_type": "code",
   "execution_count": 11,
   "id": "782148d8-e0c6-452e-95a3-ec27346734d9",
   "metadata": {},
   "outputs": [],
   "source": [
    "# Remove the outliers, which are in clusters that are -1. \n",
    "# We do not pick the majority cluster in order to prevent topic selection bias.\n",
    "non_outlier_indices = labels_ != -1"
   ]
  },
  {
   "cell_type": "markdown",
   "id": "a470b105-2362-4d29-a7d0-8496ec569fd9",
   "metadata": {},
   "source": [
    "##### Filter out outliers"
   ]
  },
  {
   "cell_type": "code",
   "execution_count": 12,
   "id": "fd9aa020-fb8e-4e1c-ad6b-9c0a43dfb0cc",
   "metadata": {},
   "outputs": [
    {
     "data": {
      "text/plain": [
       "((132124, 50), (132124,))"
      ]
     },
     "execution_count": 12,
     "metadata": {},
     "output_type": "execute_result"
    }
   ],
   "source": [
    "filtered_embeddings, filtered_documents = reduced_embeddings[non_outlier_indices], documents[non_outlier_indices]\n",
    "\n",
    "filtered_embeddings.shape, filtered_documents.shape"
   ]
  },
  {
   "cell_type": "markdown",
   "id": "0b694d6a-fe22-48c7-abf5-2535d26bc8c6",
   "metadata": {},
   "source": [
    "#### Save to our vector database"
   ]
  },
  {
   "cell_type": "code",
   "execution_count": 22,
   "id": "8743e4c9-bf01-4733-bdae-426bd04d796b",
   "metadata": {},
   "outputs": [],
   "source": [
    "chroma_client.delete_collection(name = \"cleaned-msr2013\")"
   ]
  },
  {
   "cell_type": "code",
   "execution_count": 13,
   "id": "f325b4f0-1658-46ea-8ad0-faf61928fbfe",
   "metadata": {},
   "outputs": [],
   "source": [
    "try: cleaned_collection = chroma_client.get_collection(name = \"msr2013-cleaned\")\n",
    "except: cleaned_collection = chroma_client.create_collection(name=\"msr2013-cleaned\")"
   ]
  },
  {
   "cell_type": "code",
   "execution_count": 14,
   "id": "fc68e148-5937-4f59-9ce2-ebd464602687",
   "metadata": {},
   "outputs": [],
   "source": [
    "import uuid\n",
    "\n",
    "## Save the version where our embeddings are generated ourselves.\n",
    "\n",
    "chunk_size = 1_000\n",
    "\n",
    "for i in range(1 + len(filtered_embeddings) // chunk_size):\n",
    "\n",
    "    chunked_documents = filtered_documents[i * chunk_size: (i + 1) * chunk_size].tolist()\n",
    "    chunked_embeddings = filtered_embeddings[i * chunk_size: (i + 1) * chunk_size].tolist()\n",
    "\n",
    "    cleaned_collection.upsert(\n",
    "        documents = chunked_documents, \n",
    "        embeddings = chunked_embeddings, \n",
    "        ids=[f\"id-{uuid.uuid4().hex}\" for i in range(len(chunked_embeddings))],\n",
    "    )"
   ]
  },
  {
   "cell_type": "code",
   "execution_count": 24,
   "id": "e09deda3-3f35-45fc-a1ca-56e1f1ad2fa6",
   "metadata": {},
   "outputs": [],
   "source": [
    "chroma_client.delete_collection(name=\"query-msr2013\")"
   ]
  },
  {
   "cell_type": "code",
   "execution_count": 25,
   "id": "c2f65a35-463c-41c5-be87-fb49a6760d69",
   "metadata": {},
   "outputs": [],
   "source": [
    "try: msr_ = chroma_client.get_collection(name = \"msr2013-query\")\n",
    "except: msr_ = chroma_client.create_collection(name=\"msr2013-query\")"
   ]
  },
  {
   "cell_type": "code",
   "execution_count": 26,
   "id": "073eb9a2-d859-489a-b1ad-3390ab572593",
   "metadata": {},
   "outputs": [
    {
     "data": {
      "text/plain": [
       "(131197, 131197)"
      ]
     },
     "execution_count": 26,
     "metadata": {},
     "output_type": "execute_result"
    }
   ],
   "source": [
    "len(set(filtered_documents)), len(filtered_documents)"
   ]
  },
  {
   "cell_type": "code",
   "execution_count": 28,
   "id": "313701eb-270e-49d5-a1df-c0d853f68525",
   "metadata": {},
   "outputs": [],
   "source": [
    "filtered_documents = [*set([entry.strip().lower() for entry in filtered_documents])]"
   ]
  },
  {
   "cell_type": "code",
   "execution_count": 31,
   "id": "6e25008d-1a87-4a4c-8a20-ce9c48497340",
   "metadata": {},
   "outputs": [],
   "source": [
    "## Save the raw text\n",
    "\n",
    "chunk_size = 1_000\n",
    "\n",
    "for i in range(1 + len(filtered_documents) // chunk_size):\n",
    "\n",
    "    chunked_documents = filtered_documents[i * chunk_size: (i + 1) * chunk_size]\n",
    "\n",
    "    msr_.add(\n",
    "        documents = chunked_documents, \n",
    "        ids=[f\"id-{uuid.uuid4().hex}\" for i in range(len(chunked_documents))],\n",
    "    )"
   ]
  },
  {
   "cell_type": "code",
   "execution_count": null,
   "id": "c748b05b-2877-4c85-b50c-b9b7608306fe",
   "metadata": {},
   "outputs": [],
   "source": []
  }
 ],
 "metadata": {
  "kernelspec": {
   "display_name": "rapids-defectsearch",
   "language": "python",
   "name": "rapids-defectsearch"
  },
  "language_info": {
   "codemirror_mode": {
    "name": "ipython",
    "version": 3
   },
   "file_extension": ".py",
   "mimetype": "text/x-python",
   "name": "python",
   "nbconvert_exporter": "python",
   "pygments_lexer": "ipython3",
   "version": "3.10.14"
  }
 },
 "nbformat": 4,
 "nbformat_minor": 5
}
