{
 "cells": [
  {
   "cell_type": "code",
   "execution_count": 1,
   "id": "cae9ef66-36df-4254-92d8-a785ba6ecbcb",
   "metadata": {},
   "outputs": [],
   "source": [
    "import os\n",
    "import json\n",
    "import itertools\n",
    "import pandas as pd\n",
    "from pathlib import Path\n",
    "\n",
    "def load_json_dataset(path):\n",
    "    with open(path) as f:\n",
    "        return json.load(f)\n",
    "\n",
    "def flatten_entry(data_entry):\n",
    "    result = []\n",
    "    for data in data_entry:\n",
    "        what = data['what']\n",
    "        if what.strip() != \"\":\n",
    "            result.append(what)\n",
    "    return result"
   ]
  },
  {
   "cell_type": "code",
   "execution_count": 2,
   "id": "8d3185ec-6d1b-49f4-8c9b-53a1e7fac090",
   "metadata": {
    "collapsed": true,
    "jupyter": {
     "outputs_hidden": true
    },
    "scrolled": true
   },
   "outputs": [
    {
     "name": "stderr",
     "output_type": "stream",
     "text": [
      "/Users/lohyikuang/miniconda3/envs/change-driver-library/lib/python3.11/site-packages/sentence_transformers/cross_encoder/CrossEncoder.py:11: TqdmExperimentalWarning: Using `tqdm.autonotebook.tqdm` in notebook mode. Use `tqdm.tqdm` instead to force console mode (e.g. in jupyter console)\n",
      "  from tqdm.autonotebook import tqdm, trange\n",
      "/Users/lohyikuang/miniconda3/envs/change-driver-library/lib/python3.11/site-packages/threadpoolctl.py:1214: RuntimeWarning: \n",
      "Found Intel OpenMP ('libiomp') and LLVM OpenMP ('libomp') loaded at\n",
      "the same time. Both libraries are known to be incompatible and this\n",
      "can cause random crashes or deadlocks on Linux when loaded in the\n",
      "same Python program.\n",
      "Using threadpoolctl may cause crashes or deadlocks. For more\n",
      "information and possible workarounds, please see\n",
      "    https://github.com/joblib/threadpoolctl/blob/master/multiple_openmp.md\n",
      "\n",
      "  warnings.warn(msg, RuntimeWarning)\n"
     ]
    }
   ],
   "source": [
    "from mlengine.core.model import train_mlm"
   ]
  },
  {
   "cell_type": "code",
   "execution_count": 4,
   "id": "2a0019c6-e234-4de9-b178-8a66cd473f97",
   "metadata": {},
   "outputs": [],
   "source": [
    "eclipse_dataset = load_json_dataset(\"data/msr2013-bug_dataset/data/v02/eclipse/short_desc.json\")\n",
    "mozilla_dataset = load_json_dataset(\"data/msr2013-bug_dataset/data/v02/mozilla/short_desc.json\")\n",
    "\n",
    "c_mozilla_dataset = [*itertools.chain.from_iterable(map(flatten_entry, mozilla_dataset['short_desc'].values()))]\n",
    "c_eclipse_dataset = [*itertools.chain.from_iterable(map(flatten_entry, eclipse_dataset['short_desc'].values()))]"
   ]
  },
  {
   "cell_type": "code",
   "execution_count": 5,
   "id": "c964df8e-a206-4432-825e-fe439c1a7c72",
   "metadata": {},
   "outputs": [],
   "source": [
    "dataset = list(set(c_mozilla_dataset + c_eclipse_dataset))"
   ]
  },
  {
   "cell_type": "code",
   "execution_count": 6,
   "id": "254517e9-bd86-4f70-ae6f-879a5a940ed3",
   "metadata": {},
   "outputs": [],
   "source": [
    "file_path = f'{os.path.abspath(\"\")}/train.txt'\n",
    "with open(file_path, 'w') as f:\n",
    "    for line in dataset:\n",
    "        f.write(f\"{line}\\n\")"
   ]
  },
  {
   "cell_type": "code",
   "execution_count": null,
   "id": "eb0a990d-5928-415e-a15c-4e3f0f228b9b",
   "metadata": {},
   "outputs": [],
   "source": [
    "# https://www.sbert.net/docs/sentence_transformer/pretrained_models.html\n",
    "train_mlm(\"sentence-transformers/all-mpnet-base-v2\", file_path)"
   ]
  },
  {
   "cell_type": "code",
   "execution_count": null,
   "id": "23c2decc-dc57-485d-8234-18dcea72eff6",
   "metadata": {},
   "outputs": [],
   "source": []
  }
 ],
 "metadata": {
  "kernelspec": {
   "display_name": "Python 3 (ipykernel)",
   "language": "python",
   "name": "python3"
  },
  "language_info": {
   "codemirror_mode": {
    "name": "ipython",
    "version": 3
   },
   "file_extension": ".py",
   "mimetype": "text/x-python",
   "name": "python",
   "nbconvert_exporter": "python",
   "pygments_lexer": "ipython3",
   "version": "3.11.3"
  }
 },
 "nbformat": 4,
 "nbformat_minor": 5
}
