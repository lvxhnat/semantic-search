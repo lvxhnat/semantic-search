{
 "cells": [
  {
   "cell_type": "code",
   "execution_count": 3,
   "id": "5be08a58-de10-4648-a19d-af3d5849557e",
   "metadata": {},
   "outputs": [
    {
     "data": {
      "text/plain": [
       "False"
      ]
     },
     "execution_count": 3,
     "metadata": {},
     "output_type": "execute_result"
    }
   ],
   "source": [
    "import os\n",
    "from dotenv import load_dotenv\n",
    "\n",
    "load_dotenv()"
   ]
  },
  {
   "cell_type": "markdown",
   "id": "9c272aa3-7bab-49a4-92fc-4abbbf133c38",
   "metadata": {},
   "source": [
    "#### Create the ChromaDB Client and set the embedding model"
   ]
  },
  {
   "cell_type": "code",
   "execution_count": 4,
   "id": "d3c02b11-c978-4cb4-9ee5-41a87abf19ed",
   "metadata": {},
   "outputs": [],
   "source": [
    "import chromadb\n",
    "from chromadb.utils import embedding_functions"
   ]
  },
  {
   "cell_type": "code",
   "execution_count": 5,
   "id": "cf0e6aae-30dd-493e-af49-cfab618e8527",
   "metadata": {},
   "outputs": [],
   "source": [
    "CHROMADB_PATH=\"/home/yikuang/workspace/defectsearch/notebooks/data/chromadb\"\n",
    "\n",
    "chroma_client = chromadb.PersistentClient(path=CHROMADB_PATH)"
   ]
  },
  {
   "cell_type": "code",
   "execution_count": 6,
   "id": "8a80e21a-26e5-40dd-9396-d72dba86e1d5",
   "metadata": {},
   "outputs": [
    {
     "name": "stdout",
     "output_type": "stream",
     "text": [
      "['np2024-dataset']\n"
     ]
    }
   ],
   "source": [
    "print([entry.name for entry in chroma_client.list_collections()])"
   ]
  },
  {
   "cell_type": "code",
   "execution_count": 7,
   "id": "4fcd2c5d-3645-4885-8466-8d9f8dd4b3ba",
   "metadata": {},
   "outputs": [],
   "source": [
    "collection = chroma_client.get_or_create_collection(\n",
    "    name = \"np2024-dataset\", \n",
    "    # embedding_function = embedding_functions.SentenceTransformerEmbeddingFunction(model_name=\"Huffon/sentence-klue-roberta-base\")\n",
    ")"
   ]
  },
  {
   "cell_type": "markdown",
   "id": "27ae5843-7d6d-45ed-98cd-cea7346697fc",
   "metadata": {},
   "source": [
    "#### Import the dataset"
   ]
  },
  {
   "cell_type": "code",
   "execution_count": 8,
   "id": "0e18aea0-9a1d-4b1b-8f7c-2bc3a66e9b2a",
   "metadata": {},
   "outputs": [],
   "source": [
    "import pandas as pd\n",
    "from glob import glob\n",
    "\n",
    "files = glob(\"data/github-dataset/warehouse/*.csv\")\n",
    "dfs = [pd.read_csv(file) for file in files]\n",
    "df = dfs[3].dropna(subset = ['body'])"
   ]
  },
  {
   "cell_type": "markdown",
   "id": "eb8f79ca-5c64-47eb-b01b-d67396fc2a53",
   "metadata": {},
   "source": [
    "#### Clean the data uploaded to ChromaDB"
   ]
  },
  {
   "cell_type": "code",
   "execution_count": 9,
   "id": "af1ed142-6b50-49c8-b724-1dba3f9af289",
   "metadata": {},
   "outputs": [],
   "source": [
    "import re\n",
    "\n",
    "def clean_text(text: str):\n",
    "    pattern = re.compile(r'### Pandas version checks.*?### Reproducible Example', re.DOTALL)\n",
    "    # Replace the matched section with '### Reproducible Example'\n",
    "    cleaned_text = re.sub(pattern, '### Reproducible Example', text)\n",
    "    # Regex to match the ### Installed Versions section and its content\n",
    "    pattern = re.compile(r'### Installed Versions.*?(</details>|$)', re.DOTALL)\n",
    "    # Replace the matched section with an empty string\n",
    "    cleaned_text = re.sub(pattern, '', cleaned_text)\n",
    "    cleaned_text = cleaned_text.strip().lower().replace(\"###\", \"\")\n",
    "    cleaned_text = re.sub(r'\\n\\s*\\n+', ' ', cleaned_text)\n",
    "    return cleaned_text"
   ]
  },
  {
   "cell_type": "code",
   "execution_count": 10,
   "id": "59ba1fe3-b907-42ec-bc9a-018e85b86223",
   "metadata": {
    "scrolled": true
   },
   "outputs": [
    {
     "name": "stderr",
     "output_type": "stream",
     "text": [
      "/tmp/ipykernel_1072269/1253343363.py:1: SettingWithCopyWarning: \n",
      "A value is trying to be set on a copy of a slice from a DataFrame.\n",
      "Try using .loc[row_indexer,col_indexer] = value instead\n",
      "\n",
      "See the caveats in the documentation: https://pandas.pydata.org/pandas-docs/stable/user_guide/indexing.html#returning-a-view-versus-a-copy\n",
      "  df['cleaned_body'] = df['body'].apply(clean_text)\n"
     ]
    }
   ],
   "source": [
    "df['cleaned_body'] = df['body'].apply(clean_text)"
   ]
  },
  {
   "cell_type": "markdown",
   "id": "bc465050-00fa-4e22-899d-7ffd30e694e4",
   "metadata": {},
   "source": [
    "#### Upload the data to ChromaDB"
   ]
  },
  {
   "cell_type": "raw",
   "id": "eaad2789-a340-4272-8fd2-816e883d5dae",
   "metadata": {},
   "source": [
    "import uuid\n",
    "from tqdm import tqdm\n",
    "\n",
    "i, chunk_size = 0, 1_000\n",
    "\n",
    "for row in df.itertuples():\n",
    "    # Insert the embedded sentences into the database on every chunk_size chunk\n",
    "    if i % chunk_size == 0 and i != 0:        \n",
    "        chunk_df = df.iloc[i - chunk_size: i]\n",
    "        collection.upsert(\n",
    "            documents = chunk_df[\"body\"].to_list(), \n",
    "            ids = chunk_df[\"node_id\"].to_list()\n",
    "        )\n",
    "    i += 1\n",
    "    \n",
    "collection.upsert(\n",
    "    documents = df.iloc[i - chunk_size:]['body'].to_list(), \n",
    "    ids = df.iloc[i - chunk_size:][\"node_id\"].to_list()\n",
    ")"
   ]
  },
  {
   "cell_type": "code",
   "execution_count": 11,
   "id": "45dbe08f-959c-483b-a353-efadfb956c22",
   "metadata": {},
   "outputs": [],
   "source": [
    "query = \"pd.ExcelWriter cannot accept an io.BytesIO instance as first arg\"\n",
    "results = collection.query(query_texts=[query], n_results=10)"
   ]
  },
  {
   "cell_type": "markdown",
   "id": "e4c83da1-2580-44c7-b570-4b6d04332532",
   "metadata": {},
   "source": [
    "#### Import the Pretrained LLM Model"
   ]
  },
  {
   "cell_type": "code",
   "execution_count": 12,
   "id": "02bb7f80-8d31-4475-be17-22f210d31cf2",
   "metadata": {},
   "outputs": [
    {
     "name": "stderr",
     "output_type": "stream",
     "text": [
      "`flash-attention` package not found, consider installing for better performance: No module named 'flash_attn'.\n",
      "Current `flash-attention` does not support `window_size`. Either upgrade or use `attn_implementation='eager'`.\n",
      "Loading checkpoint shards: 100%|██████████████████████| 2/2 [00:01<00:00,  1.74it/s]\n",
      "Special tokens have been added in the vocabulary, make sure the associated word embeddings are fine-tuned or trained.\n"
     ]
    }
   ],
   "source": [
    "import torch\n",
    "from transformers import AutoModelForCausalLM, AutoTokenizer, pipeline\n",
    "import numpy as np\n",
    "\n",
    "torch.random.manual_seed(0)\n",
    "\n",
    "model = AutoModelForCausalLM.from_pretrained(\n",
    "    \"microsoft/Phi-3-mini-128k-instruct\",\n",
    "    device_map=\"cuda\",\n",
    "    torch_dtype=\"auto\",\n",
    "    trust_remote_code=True,\n",
    ")\n",
    "\n",
    "tokenizer = AutoTokenizer.from_pretrained(\"microsoft/Phi-3-mini-128k-instruct\")\n",
    "\n",
    "pipe = pipeline(\n",
    "    \"text-generation\",\n",
    "    model=model,\n",
    "    tokenizer=tokenizer,\n",
    ")"
   ]
  },
  {
   "cell_type": "code",
   "execution_count": 19,
   "id": "b76f791a-cacd-4633-a93b-09fc0c01813a",
   "metadata": {},
   "outputs": [],
   "source": [
    "def craft_prompt(query: str, df: pd.DataFrame, chroma_collection, min_ref_docs: int = 2, distance_threshold = 0.1) -> str:\n",
    "\n",
    "    \"\"\"\n",
    "    min_ref_docs : minimum number of documents we want the RAG model to reference.\n",
    "    \"\"\"\n",
    "    \n",
    "    results = chroma_collection.query(\n",
    "        query_texts = [query],  # Chroma will embed this for you\n",
    "        n_results = 10,  # How many results to return\n",
    "    )\n",
    "\n",
    "    reference_ids: List[str] = results['ids'][0]\n",
    "    filtered_result = df[df.node_id.isin(reference_ids)]\n",
    "\n",
    "    # Get values that deviate less than 0.1 distance away\n",
    "    documents = np.array(filtered_result['cleaned_body'].to_list())\n",
    "    distances = np.array(results[\"distances\"][0])\n",
    "\n",
    "    distance_ids = {k: v for k,v in zip(reference_ids, distances)}\n",
    "    \n",
    "    relevant_documents = documents[distances < min(distances) + distance_threshold]\n",
    "\n",
    "    if len(relevant_documents) < min_ref_docs:\n",
    "        relevant_documents = documents[:min_ref_docs]\n",
    "    \n",
    "    if len(relevant_documents) == 0:\n",
    "        relevant_documents = documents[:1]  # At least take the top result if none within the threshold\n",
    "\n",
    "    # Join results with new lines for the context\n",
    "    context = \"\\n\".join(relevant_documents) \n",
    "\n",
    "    return relevant_documents\n",
    "\n",
    "    return [\n",
    "        {\"role\": \"system\", \"content\": \"You are a helpful AI assistant that answers questions from a database of GitHub issues.\"},\n",
    "        {\n",
    "            \"role\": \"user\",\n",
    "            \"content\": (\n",
    "                \"Answer the following question using only the provided context. Do not assume or add information beyond what is in the context. \\n\"\n",
    "                \"If the context does not contain sufficient information to answer the question, explicitly state that the context is insufficient and provide your own suggestions with a clear warning. \\n\"\n",
    "                \"The context are entries in a database, so your answer should say instead that you had referenced the database. \\n\"\n",
    "                \"Context:\\n\"\n",
    "                \"{context}\\n\\n\"\n",
    "                \"Question: {query}\\n\\n\"\n",
    "                \"Here are the entries in the database that might be relevant to your query:\\n\"\n",
    "                \"{entries}\"\n",
    "            ).format(context=context, query=query, entries=\"\".join([f'- {entry}\\n' for entry in relevant_documents]))\n",
    "        }\n",
    "    ], distance_ids\n",
    "\n",
    "def search_term(query, pipe, df, chroma_collection):\n",
    "\n",
    "    generation_args = {\n",
    "        \"max_new_tokens\": 500,\n",
    "        \"return_full_text\": False,\n",
    "        \"temperature\": 0.0,\n",
    "        \"do_sample\": False,\n",
    "    }\n",
    "\n",
    "    prompt = craft_prompt(query, df, chroma_collection)\n",
    "\n",
    "    return prompt\n",
    "    \n",
    "    output = pipe(prompt, **generation_args)\n",
    "    \n",
    "    return output, reference_ids"
   ]
  },
  {
   "cell_type": "code",
   "execution_count": 20,
   "id": "d3197195-b036-4d53-978b-1e3acab469f1",
   "metadata": {},
   "outputs": [],
   "source": [
    "# Example usage\n",
    "# Ensure 'collection' is properly initialized and configured\n",
    "query = \"test\"\n",
    "\n",
    "relevant_documents = search_term(\n",
    "    query,\n",
    "    pipe, \n",
    "    df, \n",
    "    chroma_collection = collection\n",
    ")"
   ]
  },
  {
   "cell_type": "code",
   "execution_count": 24,
   "id": "2c6179e7-3408-4b9f-9b5d-90076af1d0b8",
   "metadata": {},
   "outputs": [
    {
     "name": "stdout",
     "output_type": "stream",
     "text": [
      "tensor([-10.9792,  -7.9862, -11.0184, -11.0404, -11.0475])\n"
     ]
    }
   ],
   "source": [
    "import torch\n",
    "from transformers import AutoModelForSequenceClassification, AutoTokenizer\n",
    "\n",
    "# Load pre-trained model and tokenizer\n",
    "tokenizer = AutoTokenizer.from_pretrained('BAAI/bge-reranker-v2-m3')\n",
    "model = AutoModelForSequenceClassification.from_pretrained('BAAI/bge-reranker-v2-m3')\n",
    "model.eval()\n",
    "\n",
    "# # Define pairs for similarity computation\n",
    "# query = 'china has bears?'\n",
    "# passages = [\n",
    "#     'hi',\n",
    "#     'The giant panda (Ailuropoda melanoleuca), sometimes called a panda bear or simply panda, is a bear species endemic to China.'\n",
    "# ]\n",
    "\n",
    "# Prepare input pairs\n",
    "pairs = [[query, passage] for passage in relevant_documents]\n",
    "\n",
    "# Tokenize and compute scores\n",
    "with torch.no_grad():\n",
    "    inputs = tokenizer(pairs, padding=True, truncation=True, return_tensors='pt', max_length=512)\n",
    "    outputs = model(**inputs, return_dict=True)\n",
    "    scores = outputs.logits.squeeze().float()  # Adjust based on model output shape\n",
    "    print(scores)\n",
    "\n",
    "# Pair the scores with the other list\n",
    "paired_list = list(zip(scores, relevant_documents))\n",
    "# Sort the pairs based on the scores in descending order\n",
    "sorted_pairs = sorted(paired_list, key=lambda x: x[0], reverse=True)\n",
    "# Separate the sorted pairs back into two lists\n",
    "sorted_scores, sorted_other_list = zip(*sorted_pairs)"
   ]
  },
  {
   "cell_type": "code",
   "execution_count": 32,
   "id": "e3bfb2b3-7f32-488c-b644-3a7634be633a",
   "metadata": {},
   "outputs": [],
   "source": []
  },
  {
   "cell_type": "code",
   "execution_count": 34,
   "id": "dae65fb7-18fc-4e45-b392-184d2bedf609",
   "metadata": {},
   "outputs": [
    {
     "data": {
      "text/plain": [
       "('- [ ] closes  #44956, #45110\\r\\n- [ ] tests added / passed\\r two tests have failed but looks like the reason is not my changes\\r\\n(perhaps won\\'t see in checks)\\r <details>\\r ====================================================================== failures =======================================================================\\r\\n__________________________________________ testchaining.test_detect_chained_assignment_warning_stacklevel[3] __________________________________________\\r self = <pandas.tests.indexing.test_chaining_and_caching.testchaining object at 0x0000022fc3fbfb80>, rhs = 3\\r     @pytest.mark.parametrize(\"rhs\", [3, dataframe({0: [1, 2, 3, 4]})])\\r\\n    def test_detect_chained_assignment_warning_stacklevel(self, rhs):\\r\\n        # gh#42570\\r\\n        df = dataframe(np.arange(25).reshape(5, 5))\\r\\n        chained = df.loc[:3]\\r\\n        with option_context(\"chained_assignment\", \"warn\"):\\r\\n            with tm.assert_produces_warning(com.settingwithcopywarning) as t:\\r\\n                chained[2] = rhs\\r\\n>               assert t[0].filename == __file__\\r\\ne               assertionerror: assert \\'c:\\\\\\\\users\\\\\\\\b...nd_caching.py\\' == \\'c:\\\\\\\\users\\\\\\\\b...nd_caching.py\\'\\r\\ne                 - c:\\\\users\\\\bdrum\\\\development\\\\python\\\\pandas\\\\pandas\\\\tests\\\\indexing\\\\test_chaining_and_caching.py\\r\\ne                 ? ^\\r\\ne                 + c:\\\\users\\\\bdrum\\\\development\\\\python\\\\pandas\\\\pandas\\\\tests\\\\indexing\\\\test_chaining_and_caching.py\\r\\ne                 ? ^\\r pandas\\\\tests\\\\indexing\\\\test_chaining_and_caching.py:444: assertionerror\\r\\n------------------------------------- generated xml file: c:\\\\users\\\\bdrum\\\\development\\\\python\\\\pandas\\\\test-data.xml --------------------------------------\\r\\n================================================================ slowest 30 durations =================================================================\\r\\n0.29s call     pandas/tests/indexing/test_chaining_and_caching.py::testchaining::test_detect_chained_assignment_warning_stacklevel[3]\\r (2 durations < 0.005s hidden.  use -vv to show these durations.)\\r\\n=============================================================== short test summary info ===============================================================\\r\\nfailed pandas/tests/indexing/test_chaining_and_caching.py::testchaining::test_detect_chained_assignment_warning_stacklevel[3] - assertionerror: asser...\\r\\n========================================================== 1 failed, 31 deselected in 0.84s ===========================================================\\r </details>\\r - [x] ensure all linting tests pass, see [here](https://pandas.pydata.org/pandas-docs/dev/development/contributing_codebase.html#pre-commit) for how to run them\\r\\n- [x] whatsnew entry already there\\r this is only part of solutiion in order to close regression. i will create separate issue that describes global sparsearray indices problem.\\r current behavior as expected in #45110\\r ~~~python\\r\\ns = pd.arrays.sparsearray([1, 2, 3, 4, np.nan, np.nan], fill_value=np.nan)\\r\\ns[s>2]\\r # [3.0, 4.0]\\r\\n# fill: nan\\r\\n# intindex\\r\\n# indices: array([0, 1])\\r ~~~',\n",
       " '- [x] closes #46037 \\r\\n- [x] tests\\r\\n- [x] whats new',\n",
       " '- [x] closes #43305 \\r\\n- [x] tests added / passed\\r\\n- [x] whatsnew entry',\n",
       " 'on ubuntu18 im seeing a variable number of tests in test_binops failing with empty `.attrs`\\r cc @tomaugspurger',\n",
       " 'series boolean ops tests need some serious cleanup and fleshing out.  this gets separates out one fix before going in to clean up the tests.')"
      ]
     },
     "execution_count": 34,
     "metadata": {},
     "output_type": "execute_result"
    }
   ],
   "source": [
    "sorted_other_list"
   ]
  },
  {
   "cell_type": "code",
   "execution_count": 48,
   "id": "189ca4b4-5283-4430-a3a5-5bc61fa2295d",
   "metadata": {},
   "outputs": [
    {
     "data": {
      "text/plain": [
       "{'MDExOlB1bGxSZXF1ZXN0MjAwNTUyNDE5': 1.1448930501937866,\n",
       " 'MDExOlB1bGxSZXF1ZXN0NTk2NzA4ODY=': 1.163944959640503,\n",
       " 'MDExOlB1bGxSZXF1ZXN0MTMzOTMyNTU=': 1.1797651052474976,\n",
       " 'MDExOlB1bGxSZXF1ZXN0MjM3NDE2NzE=': 1.2089669704437256,\n",
       " 'PR_kwDOAA0YD84wZZ_3': 1.2155227661132812,\n",
       " 'MDExOlB1bGxSZXF1ZXN0NzIzMzE0MjI0': 1.2461981773376465,\n",
       " 'MDExOlB1bGxSZXF1ZXN0MTkyNDM4NTY=': 1.2664517164230347,\n",
       " 'PR_kwDOAA0YD84zGyJw': 1.269770622253418,\n",
       " 'MDExOlB1bGxSZXF1ZXN0MjA1ODA3MzI0': 1.287787675857544,\n",
       " 'MDU6SXNzdWU2MjQ1MDgzMTQ=': 1.298712968826294}"
      ]
     },
     "execution_count": 48,
     "metadata": {},
     "output_type": "execute_result"
    }
   ],
   "source": [
    "reference_ids"
   ]
  },
  {
   "cell_type": "code",
   "execution_count": null,
   "id": "86a2e770-7e11-4106-9bc8-20636912587c",
   "metadata": {},
   "outputs": [],
   "source": []
  },
  {
   "cell_type": "code",
   "execution_count": null,
   "id": "edfe8192-b42d-4472-b29b-656a6b4a7460",
   "metadata": {},
   "outputs": [],
   "source": []
  },
  {
   "cell_type": "code",
   "execution_count": null,
   "id": "89aea29d-5891-45c1-a631-df2294b6dadf",
   "metadata": {},
   "outputs": [],
   "source": []
  },
  {
   "cell_type": "code",
   "execution_count": null,
   "id": "f9db4ade-f989-4fcf-89e8-e884adc22707",
   "metadata": {},
   "outputs": [],
   "source": []
  },
  {
   "cell_type": "code",
   "execution_count": null,
   "id": "20d071f7-5eb9-4395-bf50-908db8fd7b4c",
   "metadata": {},
   "outputs": [],
   "source": [
    "query = \"groupby value count doesnt preserve my order when i added in the sort argument\"\n",
    "\n",
    "results = search_term(query)"
   ]
  },
  {
   "cell_type": "code",
   "execution_count": null,
   "id": "deda1bd4-9a15-4e10-9017-5021c793bff5",
   "metadata": {},
   "outputs": [],
   "source": [
    "print(results[-1]['generated_text'])"
   ]
  },
  {
   "cell_type": "code",
   "execution_count": null,
   "id": "3306a5ad-c526-4347-81b0-c8c6981c06ca",
   "metadata": {},
   "outputs": [],
   "source": []
  }
 ],
 "metadata": {
  "kernelspec": {
   "display_name": "rapids-defectsearch",
   "language": "python",
   "name": "rapids-defectsearch"
  },
  "language_info": {
   "codemirror_mode": {
    "name": "ipython",
    "version": 3
   },
   "file_extension": ".py",
   "mimetype": "text/x-python",
   "name": "python",
   "nbconvert_exporter": "python",
   "pygments_lexer": "ipython3",
   "version": "3.10.14"
  }
 },
 "nbformat": 4,
 "nbformat_minor": 5
}
