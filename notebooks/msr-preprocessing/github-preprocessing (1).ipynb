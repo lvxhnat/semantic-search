{
 "cells": [
  {
   "cell_type": "code",
   "execution_count": 1,
   "id": "7f908cd8-5fb9-4975-8320-c09067b0d382",
   "metadata": {},
   "outputs": [],
   "source": [
    "import json\n",
    "import pandas as pd"
   ]
  },
  {
   "cell_type": "code",
   "execution_count": 2,
   "id": "1d8f49e3-4ced-4951-a51a-4175caa21428",
   "metadata": {},
   "outputs": [],
   "source": [
    "with open(\"data/github-dataset/raw/raw-202407281607-numpy.json\", \"r\") as f:\n",
    "    data = json.load(f)"
   ]
  },
  {
   "cell_type": "code",
   "execution_count": 3,
   "id": "0d16af58-545c-46e3-afb0-e5610f5585dd",
   "metadata": {},
   "outputs": [
    {
     "data": {
      "text/plain": [
       "27003"
      ]
     },
     "execution_count": 3,
     "metadata": {},
     "output_type": "execute_result"
    }
   ],
   "source": [
    "len(data)"
   ]
  },
  {
   "cell_type": "code",
   "execution_count": 4,
   "id": "c7a52608-57f3-4f62-b840-2190d000b1ca",
   "metadata": {},
   "outputs": [],
   "source": [
    "def serialise_github_issues(d):\n",
    "    data = {}\n",
    "    for field in fields: \n",
    "        item = d[field]\n",
    "        if field == 'labels':\n",
    "            item = [entry['name'] for entry in item]\n",
    "        if field == 'user': \n",
    "            item = item['login']\n",
    "        data[field] = str(item)\n",
    "    return data\n",
    "\n",
    "fields = ['url', 'repository_url', 'id', 'user', 'node_id', 'title', 'state', 'labels', 'created_at', 'updated_at', 'body']"
   ]
  },
  {
   "cell_type": "code",
   "execution_count": 5,
   "id": "4fe8565d-3254-4722-873a-0a1e9f17d224",
   "metadata": {},
   "outputs": [],
   "source": [
    "df = pd.DataFrame([serialise_github_issues(i_) for i_ in data])"
   ]
  },
  {
   "cell_type": "code",
   "execution_count": 6,
   "id": "649fcb85-9ac8-4ea3-a53a-29052e20848d",
   "metadata": {},
   "outputs": [],
   "source": [
    "import ast\n",
    "\n",
    "df.labels = df.labels.apply(ast.literal_eval)"
   ]
  },
  {
   "cell_type": "code",
   "execution_count": 7,
   "id": "68ce86ec-8b83-4101-b069-7726dbdcad09",
   "metadata": {},
   "outputs": [
    {
     "data": {
      "text/plain": [
       "labels\n",
       "00 - Bug                      7314\n",
       "component: numpy._core        3399\n",
       "04 - Documentation            3347\n",
       "03 - Maintenance              3279\n",
       "01 - Enhancement              2520\n",
       "08 - Backport                 1504\n",
       "component: numpy.lib          1124\n",
       "05 - Testing                   887\n",
       "component: documentation       773\n",
       "component: Other               733\n",
       "component: numpy.f2py          645\n",
       "Static typing                  621\n",
       "component: numpy.ma            598\n",
       "component: numpy.distutils     555\n",
       "component: numpy.random        544\n",
       "component: build               533\n",
       "57 - Close?                    508\n",
       "06 - Regression                476\n",
       "33 - Question                  365\n",
       "36 - Build                     355\n",
       "32 - Installation              345\n",
       "component: numpy.linalg        339\n",
       "component: CI                  313\n",
       "component: SIMD                301\n",
       "07 - Deprecation               288\n",
       "14 - Release                   222\n",
       "Priority: high                 220\n",
       "component: numpy.dtype         217\n",
       "component: numpy.testing       201\n",
       "component: numpy.ufunc         188\n",
       "Name: count, dtype: int64"
      ]
     },
     "execution_count": 7,
     "metadata": {},
     "output_type": "execute_result"
    }
   ],
   "source": [
    "df.explode(\"labels\").labels.value_counts().head(30)"
   ]
  },
  {
   "cell_type": "code",
   "execution_count": 8,
   "id": "191550d6-222b-4151-828e-cab24a2df61a",
   "metadata": {},
   "outputs": [],
   "source": [
    "df = df.explode(\"labels\")"
   ]
  },
  {
   "cell_type": "code",
   "execution_count": 9,
   "id": "35b09fff-86c5-4d1d-99a2-8f808a485112",
   "metadata": {},
   "outputs": [],
   "source": [
    "df = df[df.labels == \"00 - Bug\"]"
   ]
  },
  {
   "cell_type": "code",
   "execution_count": 10,
   "id": "9da67fcf-9fbe-4aab-889a-15d13a6478bd",
   "metadata": {},
   "outputs": [],
   "source": [
    "df = df.reset_index(drop = True)"
   ]
  },
  {
   "cell_type": "code",
   "execution_count": 11,
   "id": "40b372c9-f5c6-426d-aea6-cb2663bc25af",
   "metadata": {},
   "outputs": [],
   "source": [
    "df.to_csv(\"data/github-dataset/warehouse/202407251532-numpy-cleaned.csv\", index = False)"
   ]
  }
 ],
 "metadata": {
  "kernelspec": {
   "display_name": "rapids-defectsearch",
   "language": "python",
   "name": "rapids-defectsearch"
  },
  "language_info": {
   "codemirror_mode": {
    "name": "ipython",
    "version": 3
   },
   "file_extension": ".py",
   "mimetype": "text/x-python",
   "name": "python",
   "nbconvert_exporter": "python",
   "pygments_lexer": "ipython3",
   "version": "3.10.14"
  }
 },
 "nbformat": 4,
 "nbformat_minor": 5
}
