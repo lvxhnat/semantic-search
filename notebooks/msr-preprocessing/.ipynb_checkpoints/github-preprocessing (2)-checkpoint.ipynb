{
 "cells": [
  {
   "cell_type": "code",
   "execution_count": 1,
   "id": "bf8c3394-49c5-42ae-89c6-20b426a47d00",
   "metadata": {},
   "outputs": [],
   "source": [
    "import os\n",
    "import pandas as pd \n",
    "from glob import glob"
   ]
  },
  {
   "cell_type": "code",
   "execution_count": 2,
   "id": "bfa90889-8a31-4023-a4a0-178a469d0676",
   "metadata": {},
   "outputs": [],
   "source": [
    "files = glob(\"data/github-dataset/warehouse/*.csv\")\n",
    "dfs = [pd.read_csv(file) for file in files]"
   ]
  },
  {
   "cell_type": "code",
   "execution_count": 3,
   "id": "6a48378d-ecf2-4a21-88b5-d0829d765a4c",
   "metadata": {},
   "outputs": [],
   "source": [
    "df = dfs[3]"
   ]
  },
  {
   "cell_type": "code",
   "execution_count": 4,
   "id": "279891c9-cccc-4c95-9944-63c5d7b411d7",
   "metadata": {},
   "outputs": [
    {
     "data": {
      "text/html": [
       "<div>\n",
       "<style scoped>\n",
       "    .dataframe tbody tr th:only-of-type {\n",
       "        vertical-align: middle;\n",
       "    }\n",
       "\n",
       "    .dataframe tbody tr th {\n",
       "        vertical-align: top;\n",
       "    }\n",
       "\n",
       "    .dataframe thead th {\n",
       "        text-align: right;\n",
       "    }\n",
       "</style>\n",
       "<table border=\"1\" class=\"dataframe\">\n",
       "  <thead>\n",
       "    <tr style=\"text-align: right;\">\n",
       "      <th></th>\n",
       "      <th>url</th>\n",
       "      <th>repository_url</th>\n",
       "      <th>id</th>\n",
       "      <th>user</th>\n",
       "      <th>node_id</th>\n",
       "      <th>title</th>\n",
       "      <th>state</th>\n",
       "      <th>labels</th>\n",
       "      <th>created_at</th>\n",
       "      <th>updated_at</th>\n",
       "      <th>body</th>\n",
       "    </tr>\n",
       "  </thead>\n",
       "  <tbody>\n",
       "    <tr>\n",
       "      <th>0</th>\n",
       "      <td>https://api.github.com/repos/pandas-dev/pandas...</td>\n",
       "      <td>https://api.github.com/repos/pandas-dev/pandas</td>\n",
       "      <td>2428583885</td>\n",
       "      <td>sfc-gh-joshi</td>\n",
       "      <td>I_kwDOAA0YD86QwT_N</td>\n",
       "      <td>BUG: GroupBy.value_counts doesn't preserve ori...</td>\n",
       "      <td>open</td>\n",
       "      <td>Bug</td>\n",
       "      <td>2024-07-24T22:41:33Z</td>\n",
       "      <td>2024-07-24T22:41:33Z</td>\n",
       "      <td>### Pandas version checks\\n\\n- [X] I have chec...</td>\n",
       "    </tr>\n",
       "  </tbody>\n",
       "</table>\n",
       "</div>"
      ],
      "text/plain": [
       "                                                 url  \\\n",
       "0  https://api.github.com/repos/pandas-dev/pandas...   \n",
       "\n",
       "                                   repository_url          id          user  \\\n",
       "0  https://api.github.com/repos/pandas-dev/pandas  2428583885  sfc-gh-joshi   \n",
       "\n",
       "              node_id                                              title  \\\n",
       "0  I_kwDOAA0YD86QwT_N  BUG: GroupBy.value_counts doesn't preserve ori...   \n",
       "\n",
       "  state labels            created_at            updated_at  \\\n",
       "0  open    Bug  2024-07-24T22:41:33Z  2024-07-24T22:41:33Z   \n",
       "\n",
       "                                                body  \n",
       "0  ### Pandas version checks\\n\\n- [X] I have chec...  "
      ]
     },
     "execution_count": 4,
     "metadata": {},
     "output_type": "execute_result"
    }
   ],
   "source": [
    "df.head(1)"
   ]
  },
  {
   "cell_type": "code",
   "execution_count": 6,
   "id": "48b3d9e4-44ca-41c7-8ac5-22e1af9329e3",
   "metadata": {},
   "outputs": [
    {
     "name": "stderr",
     "output_type": "stream",
     "text": [
      "/home/yikuang/miniconda3/envs/rapids-defectsearch/lib/python3.10/site-packages/tqdm/auto.py:21: TqdmWarning: IProgress not found. Please update jupyter and ipywidgets. See https://ipywidgets.readthedocs.io/en/stable/user_install.html\n",
      "  from .autonotebook import tqdm as notebook_tqdm\n"
     ]
    }
   ],
   "source": [
    "import torch\n",
    "from tqdm import tqdm\n",
    "from mlengine.core.model import train_mlm\n",
    "from transformers import AutoModelForMaskedLM, AutoTokenizer"
   ]
  },
  {
   "cell_type": "code",
   "execution_count": null,
   "id": "d339b38e-e954-4cdc-a858-d2770aac244b",
   "metadata": {},
   "outputs": [],
   "source": [
    "entry_corpus = df.body\n",
    "\n",
    "file_path = f'{os.path.abspath(\"\")}/train.txt'\n",
    "\n",
    "with open(file_path, 'w') as f:\n",
    "    for line in entry_corpus:\n",
    "        f.write(f\"{line}\\n\")\n",
    "\n",
    "# https://www.sbert.net/docs/sentence_transformer/pretrained_models.html\n",
    "train_mlm(\"sentence-transformers/all-mpnet-base-v2\", file_path)"
   ]
  },
  {
   "cell_type": "code",
   "execution_count": 7,
   "id": "35f48e96-f066-4bde-b0e1-9b2b3c43c1f7",
   "metadata": {},
   "outputs": [],
   "source": [
    "output_path = 'output/sentence-transformers_all-mpnet-base-v2-2024-07-28_17-15-23'\n",
    "saved_model_path = f'{os.path.abspath(\"\")}/{output_path}/'\n",
    "\n",
    "tokenizer = AutoTokenizer.from_pretrained(saved_model_path)\n",
    "model = AutoModelForMaskedLM.from_pretrained(saved_model_path, output_hidden_states=True)"
   ]
  },
  {
   "cell_type": "code",
   "execution_count": 8,
   "id": "2d8363bc-9951-4154-a07d-576c285a50eb",
   "metadata": {},
   "outputs": [],
   "source": [
    "import chromadb\n",
    "chroma_client = chromadb.PersistentClient(path = \"./data/chromadb/\")"
   ]
  },
  {
   "cell_type": "code",
   "execution_count": 10,
   "id": "66105744-0b98-4e5c-a574-85adb9c9c584",
   "metadata": {},
   "outputs": [
    {
     "data": {
      "text/plain": [
       "['gh2024', 'cleaned-gh2024']"
      ]
     },
     "execution_count": 10,
     "metadata": {},
     "output_type": "execute_result"
    }
   ],
   "source": [
    "[i.name for i in chroma_client.list_collections()]"
   ]
  },
  {
   "cell_type": "code",
   "execution_count": 34,
   "id": "7b817b5f-6ba1-4414-b7bd-a9c9ac44f18f",
   "metadata": {},
   "outputs": [],
   "source": [
    "try: collection = chroma_client.get_collection(name =\"gh2024\")\n",
    "except: collection = chroma_client.create_collection(name=\"gh2024\")"
   ]
  },
  {
   "cell_type": "code",
   "execution_count": 21,
   "id": "ba24bfed-7858-4d78-b1c5-99cd3aebbe18",
   "metadata": {},
   "outputs": [],
   "source": [
    "df = df.dropna(subset = ['body'])"
   ]
  },
  {
   "cell_type": "code",
   "execution_count": 13,
   "id": "680b51b9-c3e6-4577-a896-72e345f7186a",
   "metadata": {},
   "outputs": [
    {
     "data": {
      "text/plain": [
       "11684"
      ]
     },
     "execution_count": 13,
     "metadata": {},
     "output_type": "execute_result"
    }
   ],
   "source": [
    "import random \n",
    "\n",
    "corpus_embeddings, i = [], 0\n",
    "\n",
    "len(corpus)"
   ]
  },
  {
   "cell_type": "markdown",
   "id": "1835fce8-e2b7-4793-b909-19fbeb464386",
   "metadata": {},
   "source": [
    "#### Generate Text Embeddings"
   ]
  },
  {
   "cell_type": "code",
   "execution_count": 27,
   "id": "c055ba80-325c-46c3-95c4-9c8d58a60501",
   "metadata": {},
   "outputs": [],
   "source": [
    "df.reset_index(drop = True, inplace = True)"
   ]
  },
  {
   "cell_type": "code",
   "execution_count": 35,
   "id": "4875ffb9-7d67-473c-8ed7-64a8b2512dc6",
   "metadata": {},
   "outputs": [
    {
     "name": "stderr",
     "output_type": "stream",
     "text": [
      "100%|██████████████████████████████████████████████████████████████████████████████████| 11563/11563 [13:04<00:00, 14.74it/s]\n"
     ]
    }
   ],
   "source": [
    "import uuid\n",
    "\n",
    "chunk_size = 1_000\n",
    "\n",
    "for row in tqdm(df.itertuples(), total = df.shape[0]):\n",
    "\n",
    "    encoded_input = tokenizer(\n",
    "        row.body, \n",
    "        padding=True, \n",
    "        truncation=True, \n",
    "        max_length=128, \n",
    "        return_tensors='pt'\n",
    "    )\n",
    "    \n",
    "    with torch.no_grad():\n",
    "        output = model(**encoded_input)\n",
    "        embeddings = output.hidden_states[-1].mean(dim=1)  # Using mean pooling\n",
    "        \n",
    "    corpus_embeddings.append(embeddings[0].tolist())\n",
    "\n",
    "    # Insert the embedded sentences into the database on every chunk_size chunk\n",
    "    if i % chunk_size == 0 and i != 0:\n",
    "        \n",
    "        collection.upsert(\n",
    "            documents=df.iloc[i - chunk_size: i]['body'].to_list(),\n",
    "            embeddings=corpus_embeddings[i - chunk_size: i],\n",
    "            ids=df.iloc[i - chunk_size: i][\"node_id\"].to_list(),\n",
    "        )\n",
    "        \n",
    "    i += 1"
   ]
  },
  {
   "cell_type": "code",
   "execution_count": null,
   "id": "7762c63f-da73-485f-9a48-d10443cd5adc",
   "metadata": {},
   "outputs": [],
   "source": []
  },
  {
   "cell_type": "code",
   "execution_count": null,
   "id": "ef5d79a7-602c-47b4-aac7-e1df330fada7",
   "metadata": {},
   "outputs": [],
   "source": []
  },
  {
   "cell_type": "code",
   "execution_count": null,
   "id": "6008d018-1a5c-4b54-9b93-e45f797010db",
   "metadata": {},
   "outputs": [],
   "source": []
  }
 ],
 "metadata": {
  "kernelspec": {
   "display_name": "rapids-defectsearch",
   "language": "python",
   "name": "rapids-defectsearch"
  },
  "language_info": {
   "codemirror_mode": {
    "name": "ipython",
    "version": 3
   },
   "file_extension": ".py",
   "mimetype": "text/x-python",
   "name": "python",
   "nbconvert_exporter": "python",
   "pygments_lexer": "ipython3",
   "version": "3.10.14"
  }
 },
 "nbformat": 4,
 "nbformat_minor": 5
}
