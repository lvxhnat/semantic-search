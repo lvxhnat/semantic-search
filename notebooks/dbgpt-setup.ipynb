{
 "cells": [
  {
   "cell_type": "code",
   "execution_count": 1,
   "id": "d741b5ff-4692-484d-8fc8-9601b337f299",
   "metadata": {},
   "outputs": [
    {
     "data": {
      "text/plain": [
       "False"
      ]
     },
     "execution_count": 1,
     "metadata": {},
     "output_type": "execute_result"
    }
   ],
   "source": [
    "import os\n",
    "import chromadb\n",
    "from dotenv import load_dotenv\n",
    "from chromadb.utils import embedding_functions\n",
    "\n",
    "load_dotenv()"
   ]
  },
  {
   "cell_type": "markdown",
   "id": "100b1deb-86f1-411a-a909-9a5473e03938",
   "metadata": {},
   "source": [
    "#### Create the ChromaDB Client"
   ]
  },
  {
   "cell_type": "markdown",
   "id": "1ff381ee-d939-4dc2-a3fa-4db5c441c5de",
   "metadata": {},
   "source": [
    "We structure our data as follows:\n",
    "\n",
    "```bash\n",
    "data/\n",
    "|__ chromadb/ # This is where chromadb stores our data\n",
    "|__ {BACKEND_DATA_SOURCE_PATH}.csv\n",
    "```"
   ]
  },
  {
   "cell_type": "code",
   "execution_count": 6,
   "id": "48f0a9c5-ef2d-4d96-9e57-f5d192d7a518",
   "metadata": {},
   "outputs": [],
   "source": [
    "# Ensure that this is the same as the lines contained in docker-compose.yaml\n",
    "BACKEND_CHROMADB_PATH=\"./data/chromadb\"\n",
    "BACKEND_CHROMADB_COLLECTION_NAME=\"np2024-dataset-test\"\n",
    "BACKEND_DATA_SOURCE_PATH=\"./data/202407251532-pandas-cleaned.csv\"\n",
    "\n",
    "chroma_client = chromadb.PersistentClient(path=BACKEND_CHROMADB_PATH)"
   ]
  },
  {
   "cell_type": "code",
   "execution_count": 7,
   "id": "14a44d3d-aeba-4810-a4c2-da736d8e0b81",
   "metadata": {},
   "outputs": [],
   "source": [
    "collection = chroma_client.get_or_create_collection(\n",
    "    name = BACKEND_CHROMADB_COLLECTION_NAME, \n",
    "    # embedding_function = embedding_functions.SentenceTransformerEmbeddingFunction(model_name=\"Huffon/sentence-klue-roberta-base\")\n",
    ")"
   ]
  },
  {
   "cell_type": "code",
   "execution_count": 8,
   "id": "6a12936e-0c30-43d1-97c8-a9615d614655",
   "metadata": {},
   "outputs": [
    {
     "name": "stdout",
     "output_type": "stream",
     "text": [
      "['np2024-dataset', 'np2024-dataset-test']\n"
     ]
    }
   ],
   "source": [
    "# Check that the collection has been successfully created\n",
    "print([entry.name for entry in chroma_client.list_collections()])"
   ]
  },
  {
   "cell_type": "markdown",
   "id": "b0608833-7086-4503-abfd-faa8332f0975",
   "metadata": {},
   "source": [
    "#### Import the dataset"
   ]
  },
  {
   "cell_type": "code",
   "execution_count": 10,
   "id": "37ddca75-9fff-46b8-8af1-397458daa1ec",
   "metadata": {},
   "outputs": [],
   "source": [
    "import uuid\n",
    "import pandas as pd\n",
    "from glob import glob\n",
    "from datetime import datetime\n",
    "\n",
    "df = pd.read_csv(BACKEND_DATA_SOURCE_PATH).dropna(subset = ['body'])\n",
    "\n",
    "columns = ['url', 'repository_url', 'id', 'user', 'node_id', 'title', 'state', 'labels', 'created_at', 'updated_at', 'body']\n",
    "\n",
    "# Node ID: Assigned unique uuid\n",
    "# Title: Name or Short Description of the defect\n",
    "# State: Whether the defect is still open or closed\n",
    "# URL: The url to whichever relevant link on more details of the defect\n",
    "# Body: Description of the defect\n",
    "# Create At: Date the defect is created\n",
    "\n",
    "required_columns = [\"node_id\", \"title\", \"state\", \"url\", \"body\", \"created_at\"]\n",
    "df_columns = df.columns\n",
    "\n",
    "if \"node_id\" not in df_columns:\n",
    "    print(f\"node_id not found, creating default uuid4 column.\")\n",
    "    df[\"node_id\"] = str(uuid.uuid4().hex)\n",
    "if \"state\" not in df_columns:\n",
    "    print(f\"state not found, creating default state column as open.\")\n",
    "    df[\"state\"] = \"open\"\n",
    "if \"url\" not in df_columns:\n",
    "    print(f\"url not found, creating default state column as null.\")\n",
    "    df[\"url\"] = None\n",
    "if \"created_at\" not in df_columns:\n",
    "    print(f\"created_at not found, creating default state column as today.\")\n",
    "    df[\"url\"] = datetime.today()\n",
    "    \n",
    "if \"title\" not in df_columns or \"body\" not in df_columns:\n",
    "    raise ValueError(f\"title or body not found in df.\")"
   ]
  },
  {
   "cell_type": "markdown",
   "id": "9fb24f7e-fb5a-4ccf-bba8-e7378a29606c",
   "metadata": {},
   "source": [
    "#### Clean the dataset"
   ]
  },
  {
   "cell_type": "code",
   "execution_count": 11,
   "id": "01c9e3d2-c5e8-40b1-95c7-9b3e97a2306f",
   "metadata": {},
   "outputs": [],
   "source": [
    "import re\n",
    "\n",
    "def clean_text(text: str):\n",
    "    ## Change this text cleaning to that specific to your dataset\n",
    "    pattern = re.compile(r'### Pandas version checks.*?### Reproducible Example', re.DOTALL)\n",
    "    # Replace the matched section with '### Reproducible Example'\n",
    "    cleaned_text = re.sub(pattern, '### Reproducible Example', text)\n",
    "    # Regex to match the ### Installed Versions section and its content\n",
    "    pattern = re.compile(r'### Installed Versions.*?(</details>|$)', re.DOTALL)\n",
    "    # Replace the matched section with an empty string\n",
    "    cleaned_text = re.sub(pattern, '', cleaned_text)\n",
    "    cleaned_text = cleaned_text.strip().lower().replace(\"###\", \"\")\n",
    "    cleaned_text = re.sub(r'\\n\\s*\\n+', ' ', cleaned_text)\n",
    "    return cleaned_text"
   ]
  },
  {
   "cell_type": "code",
   "execution_count": 12,
   "id": "2c868a30-8626-49ef-81a3-c08b61f00c89",
   "metadata": {},
   "outputs": [],
   "source": [
    "df['cleaned_body'] = df['body'].apply(clean_text)"
   ]
  },
  {
   "cell_type": "markdown",
   "id": "1867262e-8786-4482-9d93-fe067e680bdd",
   "metadata": {},
   "source": [
    "#### Create the dataset on ChromaDB"
   ]
  },
  {
   "cell_type": "code",
   "execution_count": 15,
   "id": "a28883d5-4963-4bc0-b8cb-56b8103fafee",
   "metadata": {},
   "outputs": [],
   "source": [
    "import uuid\n",
    "from tqdm import tqdm\n",
    "\n",
    "i, chunk_size = 0, 1_000\n",
    "\n",
    "for row in df.itertuples():\n",
    "    # Insert the embedded sentences into the database on every chunk_size chunk\n",
    "    if i % chunk_size == 0 and i != 0:        \n",
    "        chunk_df = df.iloc[i - chunk_size: i]\n",
    "        collection.upsert(\n",
    "            documents = chunk_df[\"cleaned_body\"].to_list(), \n",
    "            ids = chunk_df[\"node_id\"].to_list()\n",
    "        )\n",
    "    i += 1\n",
    "    \n",
    "collection.upsert(\n",
    "    documents = df.iloc[i - chunk_size:]['cleaned_body'].to_list(), \n",
    "    ids = df.iloc[i - chunk_size:][\"node_id\"].to_list()\n",
    ")"
   ]
  },
  {
   "cell_type": "markdown",
   "id": "3845dace-8229-4610-b68e-f4391e9dce20",
   "metadata": {},
   "source": [
    "#### Test the Vector Database"
   ]
  },
  {
   "cell_type": "code",
   "execution_count": 16,
   "id": "4d9d1c3f-a951-4c7f-92a2-037c639c1812",
   "metadata": {},
   "outputs": [],
   "source": [
    "query = \"pd.ExcelWriter cannot accept an io.BytesIO instance as first arg\"\n",
    "results = collection.query(query_texts=[query], n_results=10)"
   ]
  },
  {
   "cell_type": "markdown",
   "id": "aa5ff222-7562-4e52-b737-4ec495f443e4",
   "metadata": {},
   "source": [
    "#### Copy the data/ directory to backend/\n",
    "\n",
    "Therefore, your backend directory should look something like\n",
    "\n",
    "```bash\n",
    "backend/\n",
    "|__ data/\n",
    "|__ src/\n",
    "|__ README.md\n",
    "|__ setup.py\n",
    "|__ pyproject.toml\n",
    "```"
   ]
  }
 ],
 "metadata": {
  "kernelspec": {
   "display_name": "defect-search",
   "language": "python",
   "name": "defect-search"
  },
  "language_info": {
   "codemirror_mode": {
    "name": "ipython",
    "version": 3
   },
   "file_extension": ".py",
   "mimetype": "text/x-python",
   "name": "python",
   "nbconvert_exporter": "python",
   "pygments_lexer": "ipython3",
   "version": "3.10.14"
  }
 },
 "nbformat": 4,
 "nbformat_minor": 5
}
